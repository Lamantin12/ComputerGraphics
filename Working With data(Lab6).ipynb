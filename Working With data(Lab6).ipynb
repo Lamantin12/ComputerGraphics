{
 "cells": [
  {
   "cell_type": "code",
   "execution_count": 64,
   "id": "cbc6c131",
   "metadata": {},
   "outputs": [],
   "source": [
    "import numpy as np\n",
    "import matplotlib.pyplot as plt"
   ]
  },
  {
   "cell_type": "code",
   "execution_count": 65,
   "id": "e15bcce0",
   "metadata": {},
   "outputs": [],
   "source": [
    "def load_from_binary(path_x_train, path_y_train,\n",
    "                    path_x_test, path_y_test,\n",
    "                    imsize):\n",
    "    with open(path_x_train, 'rb') as read_binary:\n",
    "        x_train = np.fromfile(read_binary, dtype = np.uint8)\n",
    "    with open(path_y_train, 'rb') as read_binary:\n",
    "        y_train = np.fromfile(read_binary, dtype = np.uint8)\n",
    "    with open(path_x_test, 'rb') as read_binary:\n",
    "        x_test = np.fromfile(read_binary, dtype = np.uint8)\n",
    "    with open(path_y_test, 'rb') as read_binary:\n",
    "        y_test = np.fromfile(read_binary, dtype = np.uint8)\n",
    "    x_train = np.array(x_train, dtype = 'float32') / 255\n",
    "    x_test = np.array(x_test, dtype = 'float32') / 255\n",
    "    x_train = x_train.reshape(-1, 1,  imsize , imsize)\n",
    "    x_test = x_test.reshape(-1, 1, imsize , imsize)\n",
    "    return x_train, y_train, x_test, y_test"
   ]
  },
  {
   "cell_type": "code",
   "execution_count": 66,
   "id": "2702412f",
   "metadata": {},
   "outputs": [],
   "source": [
    "num_classes = 10\n",
    "img_rows = img_cols = 28\n",
    "file_image_train = 'mnist/images_trn.bin'\n",
    "file_lable_train = 'mnist/labels_trn.bin'\n",
    "file_image_test = 'mnist/images_tst.bin'\n",
    "file_lable_test = 'mnist/labels_tst.bin'\n",
    "x_train, y_train, x_test, y_test = load_from_binary(file_image_train, file_lable_train,\n",
    "                                                   file_image_test, file_lable_test, img_rows)"
   ]
  },
  {
   "cell_type": "markdown",
   "id": "7ede8153",
   "metadata": {},
   "source": [
    "# Task1 \n",
    "Make a mean image of each class"
   ]
  },
  {
   "cell_type": "code",
   "execution_count": 67,
   "id": "5c43b863",
   "metadata": {
    "scrolled": false
   },
   "outputs": [
    {
     "data": {
      "image/png": "[encoded data removed]",
      "text/plain": [
       "<Figure size 432x288 with 1 Axes>"
      ]
     },
     "metadata": {
      "needs_background": "light"
     },
     "output_type": "display_data"
    },
    {
     "data": {
      "image/png": "[encoded data removed]",
      "text/plain": [
       "<Figure size 432x288 with 1 Axes>"
      ]
     },
     "metadata": {
      "needs_background": "light"
     },
     "output_type": "display_data"
    },
    {
     "data": {
      "image/png": "[encoded data removed]",
      "text/plain": [
       "<Figure size 432x288 with 1 Axes>"
      ]
     },
     "metadata": {
      "needs_background": "light"
     },
     "output_type": "display_data"
    },
    {
     "data": {
      "image/png": "[encoded data removed]",
      "text/plain": [
       "<Figure size 432x288 with 1 Axes>"
      ]
     },
     "metadata": {
      "needs_background": "light"
     },
     "output_type": "display_data"
    },
    {
     "data": {
      "image/png": "[encoded data removed]",
      "text/plain": [
       "<Figure size 432x288 with 1 Axes>"
      ]
     },
     "metadata": {
      "needs_background": "light"
     },
     "output_type": "display_data"
    },
    {
     "data": {
      "image/png": "[encoded data removed]",
      "text/plain": [
       "<Figure size 432x288 with 1 Axes>"
      ]
     },
     "metadata": {
      "needs_background": "light"
     },
     "output_type": "display_data"
    },
    {
     "data": {
      "image/png": "[encoded data removed]",
      "text/plain": [
       "<Figure size 432x288 with 1 Axes>"
      ]
     },
     "metadata": {
      "needs_background": "light"
     },
     "output_type": "display_data"
    },
    {
     "data": {
      "image/png": "[encoded data removed]",
      "text/plain": [
       "<Figure size 432x288 with 1 Axes>"
      ]
     },
     "metadata": {
      "needs_background": "light"
     },
     "output_type": "display_data"
    },
    {
     "data": {
      "image/png": "[encoded data removed]",
      "text/plain": [
       "<Figure size 432x288 with 1 Axes>"
      ]
     },
     "metadata": {
      "needs_background": "light"
     },
     "output_type": "display_data"
    },
    {
     "data": {
      "image/png": "[encoded data removed]",
      "text/plain": [
       "<Figure size 432x288 with 1 Axes>"
      ]
     },
     "metadata": {
      "needs_background": "light"
     },
     "output_type": "display_data"
    }
   ],
   "source": [
    "for i in range(num_classes):\n",
    "    indx = np.flatnonzero(y_train == i)\n",
    "    mean_image = x_train[indx].mean(axis=0)\n",
    "    fig, ax = plt.subplots(1, 1)\n",
    "    ax.imshow(mean_image[0], cmap='gray')\n",
    "    ax.axis('off')"
   ]
  },
  {
   "cell_type": "markdown",
   "id": "78649b19",
   "metadata": {},
   "source": [
    "# Task2\n",
    "Find the most similar images using Monte-Carlo method"
   ]
  },
  {
   "cell_type": "code",
   "execution_count": 68,
   "id": "4154a399",
   "metadata": {},
   "outputs": [],
   "source": [
    "from skimage.metrics import structural_similarity # for images comparing\n",
    "import tqdm"
   ]
  },
  {
   "cell_type": "code",
   "execution_count": 69,
   "id": "795c6eb8",
   "metadata": {},
   "outputs": [
    {
     "data": {
      "text/plain": [
       "(6000, 1, 28, 28)"
      ]
     },
     "execution_count": 69,
     "metadata": {},
     "output_type": "execute_result"
    }
   ],
   "source": [
    "x_train = x_train[:6000:]\n",
    "x_train.shape"
   ]
  },
  {
   "cell_type": "code",
   "execution_count": 133,
   "id": "3496f901",
   "metadata": {
    "scrolled": false
   },
   "outputs": [
    {
     "name": "stderr",
     "output_type": "stream",
     "text": [
      "100%|████████████████████████████████████████████████████████████████████████████████| 120/120 [00:03<00:00, 34.28it/s]\n",
      "100%|████████████████████████████████████████████████████████████████████████████████| 120/120 [00:03<00:00, 38.24it/s]\n",
      "100%|████████████████████████████████████████████████████████████████████████████████| 120/120 [00:02<00:00, 42.51it/s]\n",
      "100%|████████████████████████████████████████████████████████████████████████████████| 120/120 [00:02<00:00, 42.60it/s]\n",
      "100%|████████████████████████████████████████████████████████████████████████████████| 120/120 [00:02<00:00, 45.90it/s]\n",
      "100%|████████████████████████████████████████████████████████████████████████████████| 120/120 [00:02<00:00, 42.22it/s]\n",
      "100%|████████████████████████████████████████████████████████████████████████████████| 120/120 [00:02<00:00, 41.24it/s]\n",
      "100%|████████████████████████████████████████████████████████████████████████████████| 120/120 [00:03<00:00, 36.60it/s]\n",
      "100%|████████████████████████████████████████████████████████████████████████████████| 120/120 [00:03<00:00, 37.12it/s]\n",
      "100%|████████████████████████████████████████████████████████████████████████████████| 120/120 [00:03<00:00, 38.59it/s]\n"
     ]
    }
   ],
   "source": [
    "max_similarity = structural_similarity(x_train[0][0], x_train[1][0])\n",
    "experiments = 10\n",
    "experiment_size = int(x_train.shape[0] / 50)\n",
    "result_images = (x_train[0][0], x_train[1][0])\n",
    "similarity_history = []\n",
    "#Monte Carlo:\n",
    "for _ in range(experiments):\n",
    "    rand_indx = np.random.choice(x_train.shape[0], experiment_size, replace=False)\n",
    "    #for j, x in enumerate(rand_indx):\n",
    "    #    print(j, x)\n",
    "    buf_subspace = x_train[rand_indx]\n",
    "    buf_simiarity = 0\n",
    "    buf_images_indx = (0,0)\n",
    "    \n",
    "    for i in tqdm.tqdm(range(buf_subspace.shape[0])):\n",
    "        for j in range(i+1, buf_subspace.shape[0]):\n",
    "            if (buf_simiarity < structural_similarity(buf_subspace[i][0], buf_subspace[j][0])):\n",
    "                buf_simiarity = structural_similarity(buf_subspace[i][0], buf_subspace[j][0])\n",
    "                buf_images_indx = (i, j)\n",
    "                #print(i, j)\n",
    "                \n",
    "    #print(buf_images_indx)\n",
    "    #for i, x in enumerate(buf_subspace):\n",
    "    #    fig, ax = plt.subplots(1,1)\n",
    "    #    ax.imshow(x[0])\n",
    "    #    ax.set_title(f\"{i}\")\n",
    "    if (buf_simiarity > max_similarity):\n",
    "        result_images = (buf_subspace[buf_images_indx[0]], buf_subspace[buf_images_indx[1]])\n",
    "        max_similarity = buf_simiarity\n",
    "    similarity_history.append(max_similarity)"
   ]
  },
  {
   "cell_type": "code",
   "execution_count": 139,
   "id": "237ae324",
   "metadata": {},
   "outputs": [
    {
     "name": "stdout",
     "output_type": "stream",
     "text": [
      "0.9288076041649115\n"
     ]
    },
    {
     "data": {
      "text/plain": [
       "[<matplotlib.lines.Line2D at 0x18fa2862970>]"
      ]
     },
     "execution_count": 139,
     "metadata": {},
     "output_type": "execute_result"
    },
    {
     "data": {
      "image/png": "[encoded data removed]",
      "text/plain": [
       "<Figure size 1440x1080 with 3 Axes>"
      ]
     },
     "metadata": {
      "needs_background": "light"
     },
     "output_type": "display_data"
    }
   ],
   "source": [
    "print(max_similarity)\n",
    "fig, ax = plt.subplots(3,1, figsize=(20,15))\n",
    "for i in range(2):\n",
    "    ax[i].imshow(result_images[i][0])\n",
    "    ax[i].axis('off')\n",
    "ax[2].plot(similarity_history)"
   ]
  },
  {
   "cell_type": "code",
   "execution_count": 135,
   "id": "0ee079a1",
   "metadata": {},
   "outputs": [
    {
     "data": {
      "text/plain": [
       "0.9288076041649115"
      ]
     },
     "execution_count": 135,
     "metadata": {},
     "output_type": "execute_result"
    }
   ],
   "source": [
    "structural_similarity(result_images[0][0], result_images[1][0])"
   ]
  },
  {
   "cell_type": "code",
   "execution_count": 126,
   "id": "6cfb24c8",
   "metadata": {},
   "outputs": [
    {
     "data": {
      "text/plain": [
       "[]"
      ]
     },
     "execution_count": 126,
     "metadata": {},
     "output_type": "execute_result"
    }
   ],
   "source": []
  },
  {
   "cell_type": "code",
   "execution_count": null,
   "id": "b1c5ebb1",
   "metadata": {},
   "outputs": [],
   "source": []
  }
 ],
 "metadata": {
  "kernelspec": {
   "display_name": "Python 3 (ipykernel)",
   "language": "python",
   "name": "python3"
  },
  "language_info": {
   "codemirror_mode": {
    "name": "ipython",
    "version": 3
   },
   "file_extension": ".py",
   "mimetype": "text/x-python",
   "name": "python",
   "nbconvert_exporter": "python",
   "pygments_lexer": "ipython3",
   "version": "3.9.7"
  }
 },
 "nbformat": 4,
 "nbformat_minor": 5
}
