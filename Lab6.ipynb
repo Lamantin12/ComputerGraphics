{
 "cells": [
  {
   "cell_type": "markdown",
   "id": "806531f9",
   "metadata": {},
   "source": [
    "Выполнить максимально возможный вертикальный сдвиг случайно выбранной цифры набора MNIST, вывести изображения"
   ]
  },
  {
   "cell_type": "code",
   "execution_count": 8,
   "id": "275820d5",
   "metadata": {},
   "outputs": [],
   "source": [
    "import numpy as np\n",
    "import matplotlib.pyplot as plt"
   ]
  },
  {
   "cell_type": "code",
   "execution_count": 3,
   "id": "ad714941",
   "metadata": {},
   "outputs": [],
   "source": [
    "def load_from_binary(path_x_train, path_y_train,\n",
    "                    path_x_test, path_y_test,\n",
    "                    imsize):\n",
    "    \n",
    "    with open(path_x_train, 'rb') as read_binary:\n",
    "        x_train = np.fromfile(read_binary, dtype = np.uint8)\n",
    "    with open(path_y_train, 'rb') as read_binary:\n",
    "        y_train = np.fromfile(read_binary, dtype = np.uint8)\n",
    "    with open(path_x_test, 'rb') as read_binary:\n",
    "        x_test = np.fromfile(read_binary, dtype = np.uint8)\n",
    "    with open(path_y_test, 'rb') as read_binary:\n",
    "        y_test = np.fromfile(read_binary, dtype = np.uint8)\n",
    "    x_train = np.array(x_train, dtype = 'float32') / 255\n",
    "    x_test = np.array(x_test, dtype = 'float32') / 255\n",
    "    x_train = x_train.reshape(-1, imsize * imsize)\n",
    "    x_test = x_test.reshape(-1, imsize * imsize)\n",
    "    return x_train, y_train, x_test, y_test"
   ]
  },
  {
   "cell_type": "code",
   "execution_count": 60,
   "id": "acd93833",
   "metadata": {},
   "outputs": [],
   "source": [
    "img_rows = img_cols = 28\n",
    "file_image_train = 'mnist/images_trn.bin'\n",
    "file_lable_train = 'mnist/labels_trn.bin'\n",
    "file_image_test = 'mnist/images_tst.bin'\n",
    "file_lable_test = 'mnist/labels_tst.bin'\n",
    "x_train, y_train, x_test, y_test = load_from_binary(file_image_train, file_lable_train,\n",
    "                                                   file_image_test, file_lable_test, img_rows)"
   ]
  },
  {
   "cell_type": "code",
   "execution_count": 61,
   "id": "7c5a2fae",
   "metadata": {},
   "outputs": [],
   "source": []
  },
  {
   "cell_type": "code",
   "execution_count": 164,
   "id": "49140e59",
   "metadata": {},
   "outputs": [
    {
     "data": {
      "text/plain": [
       "<matplotlib.image.AxesImage at 0x14f9a87f850>"
      ]
     },
     "execution_count": 164,
     "metadata": {},
     "output_type": "execute_result"
    },
    {
     "data": {
      "image/png": "[encoded data removed]",
      "text/plain": [
       "<Figure size 432x288 with 1 Axes>"
      ]
     },
     "metadata": {
      "needs_background": "light"
     },
     "output_type": "display_data"
    }
   ],
   "source": [
    "image_indx = np.random.randint(0, x_train.shape[0])\n",
    "image = x_train[image_indx]\n",
    "original = image.reshape(img_cols, img_rows).copy()\n",
    "fig, ax = plt.subplots(1, 1)\n",
    "ax.imshow(image.reshape(img_cols, img_rows))"
   ]
  },
  {
   "cell_type": "code",
   "execution_count": 165,
   "id": "58e08f2e",
   "metadata": {},
   "outputs": [],
   "source": [
    "image = image.reshape(img_cols, img_rows)\n",
    "first_pos = 0\n",
    "last_pos = 0\n",
    "max_mas = [image[i].max() for i in range(image.shape[0])]\n",
    "fl = True\n",
    "for i in range(len(max_mas)):\n",
    "    if ((max_mas[i]>0) & (fl)):\n",
    "        fl = False\n",
    "        first_pos = i\n",
    "        \n",
    "fl=True\n",
    "for i in range(len(max_mas)-1,-1,-1):\n",
    "    if ((max_mas[i]>0) & (fl)):\n",
    "        fl = False\n",
    "        last_pos = i \n",
    "        \n",
    "last_pos = len(max_mas) - last_pos-1"
   ]
  },
  {
   "cell_type": "code",
   "execution_count": 166,
   "id": "05f78314",
   "metadata": {},
   "outputs": [
    {
     "name": "stdout",
     "output_type": "stream",
     "text": [
      "[0.0, 0.0, 0.0, 0.0, 0.0, 0.7607843, 0.99607843, 0.99607843, 0.99607843, 0.99607843, 1.0, 0.99607843, 0.99607843, 0.99607843, 0.99607843, 1.0, 0.9843137, 0.99215686, 0.99215686, 0.99215686, 0.99607843, 0.98039216, 0.99215686, 0.9529412, 0.99607843, 0.0, 0.0, 0.0]\n",
      "5 3\n"
     ]
    }
   ],
   "source": [
    "print(max_mas)\n",
    "print(first_pos, last_pos)"
   ]
  },
  {
   "cell_type": "code",
   "execution_count": 167,
   "id": "0e9770ec",
   "metadata": {},
   "outputs": [],
   "source": [
    "pos = first_pos if first_pos > last_pos else last_pos"
   ]
  },
  {
   "cell_type": "code",
   "execution_count": 168,
   "id": "a5ae7d4c",
   "metadata": {},
   "outputs": [
    {
     "name": "stdout",
     "output_type": "stream",
     "text": [
      "1\n"
     ]
    }
   ],
   "source": [
    "zeros = np.zeros((28, ))\n",
    "if (first_pos > last_pos):\n",
    "    print(\"1\")\n",
    "    for i in range(0, image.shape[0] - first_pos):\n",
    "        image[i] = image[i + first_pos]\n",
    "    for i in range(image.shape[0] - first_pos, image.shape[0]):\n",
    "        image[i] = zeros.copy()\n",
    "else:\n",
    "    print(\"2\")\n",
    "    for i in range(image.shape[0] - 1, last_pos + first_pos, -1):\n",
    "        image[i] = image[i - last_pos - 1]\n",
    "    for i in range(0, last_pos + first_pos+1):\n",
    "        image[i] = zeros.copy()"
   ]
  },
  {
   "cell_type": "code",
   "execution_count": 169,
   "id": "9409109f",
   "metadata": {},
   "outputs": [
    {
     "data": {
      "text/plain": [
       "<matplotlib.image.AxesImage at 0x14f9a8ec640>"
      ]
     },
     "execution_count": 169,
     "metadata": {},
     "output_type": "execute_result"
    },
    {
     "data": {
      "image/png": "[encoded data removed]",
      "text/plain": [
       "<Figure size 432x288 with 2 Axes>"
      ]
     },
     "metadata": {
      "needs_background": "light"
     },
     "output_type": "display_data"
    }
   ],
   "source": [
    "fig, ax = plt.subplots(1, 2)\n",
    "ax[0].imshow(image.reshape(img_cols, img_rows), cmap='gray')\n",
    "ax[1].imshow(original.reshape(img_cols, img_rows), cmap='gray')"
   ]
  },
  {
   "cell_type": "code",
   "execution_count": null,
   "id": "98dae3d5",
   "metadata": {},
   "outputs": [],
   "source": []
  }
 ],
 "metadata": {
  "kernelspec": {
   "display_name": "Python 3 (ipykernel)",
   "language": "python",
   "name": "python3"
  },
  "language_info": {
   "codemirror_mode": {
    "name": "ipython",
    "version": 3
   },
   "file_extension": ".py",
   "mimetype": "text/x-python",
   "name": "python",
   "nbconvert_exporter": "python",
   "pygments_lexer": "ipython3",
   "version": "3.9.7"
  }
 },
 "nbformat": 4,
 "nbformat_minor": 5
}
